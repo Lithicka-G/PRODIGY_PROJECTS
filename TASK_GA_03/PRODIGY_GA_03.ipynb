{
  "nbformat": 4,
  "nbformat_minor": 0,
  "metadata": {
    "colab": {
      "provenance": [],
      "authorship_tag": "ABX9TyMgvyoZRsXpuJL9txRDqWqv",
      "include_colab_link": true
    },
    "kernelspec": {
      "name": "python3",
      "display_name": "Python 3"
    },
    "language_info": {
      "name": "python"
    }
  },
  "cells": [
    {
      "cell_type": "markdown",
      "metadata": {
        "id": "view-in-github",
        "colab_type": "text"
      },
      "source": [
        "<a href=\"https://colab.research.google.com/github/Lithicka-G/PRODIGY_PROJECTS/blob/main/PRODIGY_GA_03.ipynb\" target=\"_parent\"><img src=\"https://colab.research.google.com/assets/colab-badge.svg\" alt=\"Open In Colab\"/></a>"
      ]
    },
    {
      "cell_type": "code",
      "execution_count": null,
      "metadata": {
        "id": "s9IFjLoBAt08"
      },
      "outputs": [],
      "source": [
        "import random\n",
        "\n",
        "text = \"\"\"\n",
        "The sky is blue. The sun is bright. The sky is clear. The weather is nice.\n",
        "Today the sky was bright and beautiful. The sun warmed the earth gently.\n",
        "\"\"\"\n",
        "\n",
        "words = text.split()\n",
        "\n",
        "markov_chain = {}\n",
        "\n",
        "for i in range(len(words) - 1):\n",
        "    curr_word = words[i]\n",
        "    next_word = words[i + 1]\n",
        "\n",
        "    if curr_word in markov_chain:\n",
        "        markov_chain[curr_word].append(next_word)\n",
        "    else:\n",
        "        markov_chain[curr_word] = [next_word]\n",
        "\n",
        "\n",
        "word = random.choice(words)\n",
        "output = [word]\n",
        "\n",
        "for i in range(20):\n",
        "    if word in markov_chain:\n",
        "        word = random.choice(markov_chain[word])\n",
        "        output.append(word)\n",
        "    else:\n",
        "        break\n",
        "\n",
        "print(\"Generated Text:\\n\")\n",
        "print(\" \".join(output))\n"
      ]
    }
  ]
}