{
  "nbformat": 4,
  "nbformat_minor": 0,
  "metadata": {
    "colab": {
      "provenance": [],
      "gpuType": "T4",
      "authorship_tag": "ABX9TyOEk5rjtIzinQecItd11r15",
      "include_colab_link": true
    },
    "kernelspec": {
      "name": "python3",
      "display_name": "Python 3"
    },
    "language_info": {
      "name": "python"
    },
    "accelerator": "GPU"
  },
  "cells": [
    {
      "cell_type": "markdown",
      "metadata": {
        "id": "view-in-github",
        "colab_type": "text"
      },
      "source": [
        "<a href=\"https://colab.research.google.com/github/Lithicka-G/PRODIGY_PROJECTS/blob/main/PRODIGY_GA_02.ipynb\" target=\"_parent\"><img src=\"https://colab.research.google.com/assets/colab-badge.svg\" alt=\"Open In Colab\"/></a>"
      ]
    },
    {
      "cell_type": "code",
      "execution_count": null,
      "metadata": {
        "collapsed": true,
        "id": "ANTHTSk47HyU"
      },
      "outputs": [],
      "source": [
        "!pip install diffusers transformers accelerate scipy safetensors\n"
      ]
    },
    {
      "cell_type": "code",
      "source": [
        "from diffusers import StableDiffusionPipeline\n",
        "import torch\n",
        "from PIL import Image\n"
      ],
      "metadata": {
        "id": "Nt92bmvZ7niV"
      },
      "execution_count": null,
      "outputs": []
    },
    {
      "cell_type": "code",
      "source": [
        "pipe = StableDiffusionPipeline.from_pretrained(\n",
        "    \"runwayml/stable-diffusion-v1-5\",\n",
        "    torch_dtype=torch.float16,\n",
        "    use_safetensors=True,\n",
        ").to(\"cuda\")\n"
      ],
      "metadata": {
        "id": "P6KXZ6cC71S-"
      },
      "execution_count": null,
      "outputs": []
    },
    {
      "cell_type": "code",
      "source": [
        "prompt = \"glowing mushrooms on the night forest\"\n",
        "image = pipe(prompt).images[0]\n",
        "from IPython.display import display\n",
        "display(image)\n",
        "\n"
      ],
      "metadata": {
        "id": "FYKk_Epg9P_K"
      },
      "execution_count": null,
      "outputs": []
    }
  ]
}